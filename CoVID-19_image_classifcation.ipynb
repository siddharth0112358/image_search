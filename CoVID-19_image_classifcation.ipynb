{
 "cells": [
  {
   "cell_type": "code",
   "execution_count": 2,
   "metadata": {},
   "outputs": [],
   "source": [
    "# import the necessary packages\n",
    "from tensorflow.keras.preprocessing.image import ImageDataGenerator\n",
    "from tensorflow.keras.applications import VGG16\n",
    "from tensorflow.keras.layers import AveragePooling2D\n",
    "from tensorflow.keras.layers import Dropout\n",
    "from tensorflow.keras.layers import Flatten\n",
    "from tensorflow.keras.layers import Dense\n",
    "from tensorflow.keras.layers import Input\n",
    "from tensorflow.keras.models import Model\n",
    "from tensorflow.keras.optimizers import Adam\n",
    "from tensorflow.keras.utils import to_categorical\n",
    "from sklearn.preprocessing import LabelBinarizer\n",
    "from sklearn.model_selection import train_test_split\n",
    "from sklearn.metrics import classification_report\n",
    "from sklearn.metrics import confusion_matrix\n",
    "from imutils import paths\n",
    "import matplotlib.pyplot as plt\n",
    "import numpy as np\n",
    "import argparse\n",
    "import cv2\n",
    "import os"
   ]
  },
  {
   "cell_type": "code",
   "execution_count": 3,
   "metadata": {},
   "outputs": [],
   "source": [
    "# initialize the initial learning rate, number of epochs to train for,\n",
    "# and batch size\n",
    "INIT_LR = 1e-3\n",
    "EPOCHS = 25\n",
    "BS = 8"
   ]
  },
  {
   "cell_type": "code",
   "execution_count": 6,
   "metadata": {},
   "outputs": [
    {
     "name": "stdout",
     "output_type": "stream",
     "text": [
      "[INFO] loading images...\n"
     ]
    }
   ],
   "source": [
    "# grab the list of images in our dataset directory, then initialize\n",
    "# the list of data (i.e., images) and class images\n",
    "print(\"[INFO] loading images...\")\n",
    "imagePaths = list(paths.list_images(\"/Users/patsnap/Desktop/Neo4J_and_other_codes/Image_search/keras-covid-19/dataset\"))\n",
    "data = []\n",
    "labels = []"
   ]
  },
  {
   "cell_type": "code",
   "execution_count": 7,
   "metadata": {},
   "outputs": [],
   "source": [
    "# loop over the image paths\n",
    "for imagePath in imagePaths:\n",
    "    # extract the class label from the filename\n",
    "    label = imagePath.split(os.path.sep)[-2]\n",
    "    # load the image, swap color channels, and resize it to be a fixed\n",
    "    # 224x224 pixels while ignoring aspect ratio\n",
    "    image = cv2.imread(imagePath)\n",
    "    image = cv2.cvtColor(image, cv2.COLOR_BGR2RGB)\n",
    "    image = cv2.resize(image, (224, 224))\n",
    "    # update the data and labels lists, respectively\n",
    "    data.append(image)\n",
    "    labels.append(label)\n",
    "# convert the data and labels to NumPy arrays while scaling the pixel\n",
    "# intensities to the range [0, 1]\n",
    "data = np.array(data) / 255.0\n",
    "labels = np.array(labels)"
   ]
  },
  {
   "cell_type": "code",
   "execution_count": 9,
   "metadata": {},
   "outputs": [],
   "source": [
    "# perform one-hot encoding on the labels\n",
    "lb = LabelBinarizer()\n",
    "labels = lb.fit_transform(labels)\n",
    "labels = to_categorical(labels)\n",
    "# partition the data into training and testing splits using 80% of\n",
    "# the data for training and the remaining 20% for testing\n",
    "(trainX, testX, trainY, testY) = train_test_split(data, labels, test_size=0.20, stratify=labels, random_state=42)\n",
    "# initialize the training data augmentation object\n",
    "trainAug = ImageDataGenerator(rotation_range=15, fill_mode=\"nearest\")"
   ]
  },
  {
   "cell_type": "code",
   "execution_count": 11,
   "metadata": {},
   "outputs": [
    {
     "name": "stdout",
     "output_type": "stream",
     "text": [
      "[0. 1.]\n"
     ]
    }
   ],
   "source": [
    "print(labels[0])"
   ]
  },
  {
   "cell_type": "markdown",
   "metadata": {},
   "source": [
    "initialize our VGGNet model and set it up for fine-tuning"
   ]
  },
  {
   "cell_type": "code",
   "execution_count": 12,
   "metadata": {},
   "outputs": [
    {
     "name": "stdout",
     "output_type": "stream",
     "text": [
      "WARNING:tensorflow:From /Users/patsnap/anaconda2/lib/python3.7/site-packages/tensorflow_core/python/ops/resource_variable_ops.py:1630: calling BaseResourceVariable.__init__ (from tensorflow.python.ops.resource_variable_ops) with constraint is deprecated and will be removed in a future version.\n",
      "Instructions for updating:\n",
      "If using Keras pass *_constraint arguments to layers.\n",
      "Downloading data from https://github.com/fchollet/deep-learning-models/releases/download/v0.1/vgg16_weights_tf_dim_ordering_tf_kernels_notop.h5\n",
      "58892288/58889256 [==============================] - 19s 0us/step\n"
     ]
    }
   ],
   "source": [
    "# load the VGG16 network, ensuring the head FC layer sets are left\n",
    "# off\n",
    "baseModel = VGG16(weights=\"imagenet\", include_top=False,\n",
    "    input_tensor=Input(shape=(224, 224, 3)))\n",
    "# construct the head of the model that will be placed on top of the\n",
    "# the base model\n",
    "headModel = baseModel.output\n",
    "headModel = AveragePooling2D(pool_size=(4, 4))(headModel)\n",
    "headModel = Flatten(name=\"flatten\")(headModel)\n",
    "headModel = Dense(64, activation=\"relu\")(headModel)\n",
    "headModel = Dropout(0.5)(headModel)\n",
    "headModel = Dense(2, activation=\"softmax\")(headModel)\n",
    "# place the head FC model on top of the base model (this will become\n",
    "# the actual model we will train)\n",
    "model = Model(inputs=baseModel.input, outputs=headModel)\n",
    "# loop over all layers in the base model and freeze them so they will\n",
    "# *not* be updated during the first training process\n",
    "for layer in baseModel.layers:\n",
    "    layer.trainable = False"
   ]
  },
  {
   "cell_type": "markdown",
   "metadata": {},
   "source": [
    "compile model and train it"
   ]
  },
  {
   "cell_type": "code",
   "execution_count": 13,
   "metadata": {},
   "outputs": [
    {
     "name": "stdout",
     "output_type": "stream",
     "text": [
      "[INFO] compiling model...\n",
      "[INFO] training head...\n",
      "Epoch 1/25\n",
      "WARNING:tensorflow:From /Users/patsnap/anaconda2/lib/python3.7/site-packages/tensorflow_core/python/ops/math_grad.py:1424: where (from tensorflow.python.ops.array_ops) is deprecated and will be removed in a future version.\n",
      "Instructions for updating:\n",
      "Use tf.where in 2.0, which has the same broadcast rule as np.where\n",
      "4/5 [=======================>......] - ETA: 1s - loss: 0.8127 - acc: 0.4375Epoch 1/25\n",
      "10/5 [============================================================] - 3s 286ms/sample - loss: 0.6814 - acc: 0.5000\n",
      "5/5 [==============================] - 14s 3s/step - loss: 0.7966 - acc: 0.4500 - val_loss: 0.6909 - val_acc: 0.5000\n",
      "Epoch 2/25\n",
      "4/5 [=======================>......] - ETA: 1s - loss: 0.6846 - acc: 0.5938Epoch 1/25\n",
      "10/5 [============================================================] - 2s 207ms/sample - loss: 0.6684 - acc: 0.7000\n",
      "5/5 [==============================] - 11s 2s/step - loss: 0.6921 - acc: 0.5750 - val_loss: 0.6679 - val_acc: 0.7000\n",
      "Epoch 3/25\n",
      "4/5 [=======================>......] - ETA: 1s - loss: 0.6476 - acc: 0.6562Epoch 1/25\n",
      "10/5 [============================================================] - 2s 213ms/sample - loss: 0.6819 - acc: 0.5000\n",
      "5/5 [==============================] - 11s 2s/step - loss: 0.6703 - acc: 0.6750 - val_loss: 0.6719 - val_acc: 0.5000\n",
      "Epoch 4/25\n",
      "4/5 [=======================>......] - ETA: 1s - loss: 0.6929 - acc: 0.5938Epoch 1/25\n",
      "10/5 [============================================================] - 2s 232ms/sample - loss: 0.6535 - acc: 0.7000\n",
      "5/5 [==============================] - 11s 2s/step - loss: 0.6965 - acc: 0.6250 - val_loss: 0.6401 - val_acc: 0.7000\n",
      "Epoch 5/25\n",
      "4/5 [=======================>......] - ETA: 1s - loss: 0.6215 - acc: 0.7188Epoch 1/25\n",
      "10/5 [============================================================] - 3s 258ms/sample - loss: 0.6403 - acc: 0.9000\n",
      "5/5 [==============================] - 12s 2s/step - loss: 0.6565 - acc: 0.6250 - val_loss: 0.6218 - val_acc: 0.9000\n",
      "Epoch 6/25\n",
      "4/5 [=======================>......] - ETA: 2s - loss: 0.6398 - acc: 0.5938Epoch 1/25\n",
      "10/5 [============================================================] - 2s 221ms/sample - loss: 0.6247 - acc: 0.9000\n",
      "5/5 [==============================] - 13s 3s/step - loss: 0.6286 - acc: 0.6250 - val_loss: 0.6047 - val_acc: 0.9000\n",
      "Epoch 7/25\n",
      "4/5 [=======================>......] - ETA: 1s - loss: 0.6449 - acc: 0.6875Epoch 1/25\n",
      "10/5 [============================================================] - 2s 219ms/sample - loss: 0.6127 - acc: 0.9000\n",
      "5/5 [==============================] - 11s 2s/step - loss: 0.6376 - acc: 0.7000 - val_loss: 0.5898 - val_acc: 0.9000\n",
      "Epoch 8/25\n",
      "4/5 [=======================>......] - ETA: 1s - loss: 0.5097 - acc: 0.7812Epoch 1/25\n",
      "10/5 [============================================================] - 3s 262ms/sample - loss: 0.5980 - acc: 0.8000\n",
      "5/5 [==============================] - 12s 2s/step - loss: 0.4957 - acc: 0.8250 - val_loss: 0.5723 - val_acc: 0.8000\n",
      "Epoch 9/25\n",
      "4/5 [=======================>......] - ETA: 1s - loss: 0.6080 - acc: 0.7188Epoch 1/25\n",
      "10/5 [============================================================] - 2s 241ms/sample - loss: 0.5842 - acc: 0.8000\n",
      "5/5 [==============================] - 12s 2s/step - loss: 0.5895 - acc: 0.7500 - val_loss: 0.5568 - val_acc: 0.8000\n",
      "Epoch 10/25\n",
      "4/5 [=======================>......] - ETA: 2s - loss: 0.5336 - acc: 0.8125Epoch 1/25\n",
      "10/5 [============================================================] - 2s 228ms/sample - loss: 0.5936 - acc: 0.9000\n",
      "5/5 [==============================] - 13s 3s/step - loss: 0.5281 - acc: 0.8000 - val_loss: 0.5565 - val_acc: 0.9000\n",
      "Epoch 11/25\n",
      "4/5 [=======================>......] - ETA: 1s - loss: 0.4997 - acc: 0.8125Epoch 1/25\n",
      "10/5 [============================================================] - 3s 260ms/sample - loss: 0.5906 - acc: 0.9000\n",
      "5/5 [==============================] - 12s 2s/step - loss: 0.5106 - acc: 0.8250 - val_loss: 0.5486 - val_acc: 0.9000\n",
      "Epoch 12/25\n",
      "4/5 [=======================>......] - ETA: 1s - loss: 0.4833 - acc: 0.8125Epoch 1/25\n",
      "10/5 [============================================================] - 2s 213ms/sample - loss: 0.5757 - acc: 0.9000\n",
      "5/5 [==============================] - 11s 2s/step - loss: 0.4925 - acc: 0.8000 - val_loss: 0.5327 - val_acc: 0.9000\n",
      "Epoch 13/25\n",
      "4/5 [=======================>......] - ETA: 1s - loss: 0.5186 - acc: 0.8125Epoch 1/25\n",
      "10/5 [============================================================] - 2s 216ms/sample - loss: 0.5736 - acc: 0.9000\n",
      "5/5 [==============================] - 11s 2s/step - loss: 0.4871 - acc: 0.8500 - val_loss: 0.5260 - val_acc: 0.9000\n",
      "Epoch 14/25\n",
      "4/5 [=======================>......] - ETA: 1s - loss: 0.4699 - acc: 0.8125Epoch 1/25\n",
      "10/5 [============================================================] - 2s 229ms/sample - loss: 0.5525 - acc: 0.8000\n",
      "5/5 [==============================] - 12s 2s/step - loss: 0.4652 - acc: 0.8250 - val_loss: 0.5068 - val_acc: 0.8000\n",
      "Epoch 15/25\n",
      "4/5 [=======================>......] - ETA: 1s - loss: 0.4747 - acc: 0.8125Epoch 1/25\n",
      "10/5 [============================================================] - 3s 283ms/sample - loss: 0.5240 - acc: 0.9000\n",
      "5/5 [==============================] - 12s 2s/step - loss: 0.4853 - acc: 0.8000 - val_loss: 0.4854 - val_acc: 0.9000\n",
      "Epoch 16/25\n",
      "4/5 [=======================>......] - ETA: 1s - loss: 0.4125 - acc: 0.8125Epoch 1/25\n",
      "10/5 [============================================================] - 3s 291ms/sample - loss: 0.5112 - acc: 0.9000\n",
      "5/5 [==============================] - 13s 3s/step - loss: 0.3930 - acc: 0.8500 - val_loss: 0.4726 - val_acc: 0.9000\n",
      "Epoch 17/25\n",
      "4/5 [=======================>......] - ETA: 1s - loss: 0.4336 - acc: 0.7812Epoch 1/25\n",
      "10/5 [============================================================] - 3s 250ms/sample - loss: 0.5039 - acc: 0.8000\n",
      "5/5 [==============================] - 12s 2s/step - loss: 0.4303 - acc: 0.8000 - val_loss: 0.4609 - val_acc: 0.8000\n",
      "Epoch 18/25\n",
      "4/5 [=======================>......] - ETA: 2s - loss: 0.4085 - acc: 0.9062Epoch 1/25\n",
      "10/5 [============================================================] - 3s 272ms/sample - loss: 0.5114 - acc: 0.8000\n",
      "5/5 [==============================] - 15s 3s/step - loss: 0.3810 - acc: 0.9250 - val_loss: 0.4600 - val_acc: 0.8000\n",
      "Epoch 19/25\n",
      "4/5 [=======================>......] - ETA: 2s - loss: 0.3558 - acc: 0.8750Epoch 1/25\n",
      "10/5 [============================================================] - 3s 294ms/sample - loss: 0.5325 - acc: 0.9000\n",
      "5/5 [==============================] - 14s 3s/step - loss: 0.3639 - acc: 0.8750 - val_loss: 0.4694 - val_acc: 0.9000\n",
      "Epoch 20/25\n",
      "4/5 [=======================>......] - ETA: 1s - loss: 0.3922 - acc: 0.9062Epoch 1/25\n",
      "10/5 [============================================================] - 3s 260ms/sample - loss: 0.4911 - acc: 0.8000\n",
      "5/5 [==============================] - 13s 3s/step - loss: 0.3670 - acc: 0.9250 - val_loss: 0.4381 - val_acc: 0.8000\n",
      "Epoch 21/25\n",
      "4/5 [=======================>......] - ETA: 2s - loss: 0.3073 - acc: 0.9062Epoch 1/25\n",
      "10/5 [============================================================] - 3s 341ms/sample - loss: 0.4819 - acc: 0.9000\n",
      "5/5 [==============================] - 14s 3s/step - loss: 0.3141 - acc: 0.9000 - val_loss: 0.4269 - val_acc: 0.9000\n",
      "Epoch 22/25\n",
      "4/5 [=======================>......] - ETA: 2s - loss: 0.3711 - acc: 0.8438Epoch 1/25\n",
      "10/5 [============================================================] - 2s 234ms/sample - loss: 0.4924 - acc: 0.9000\n",
      "5/5 [==============================] - 13s 3s/step - loss: 0.3675 - acc: 0.8500 - val_loss: 0.4293 - val_acc: 0.9000\n",
      "Epoch 23/25\n",
      "4/5 [=======================>......] - ETA: 2s - loss: 0.3399 - acc: 0.9688Epoch 1/25\n",
      "10/5 [============================================================] - 3s 252ms/sample - loss: 0.4704 - acc: 0.9000\n",
      "5/5 [==============================] - 14s 3s/step - loss: 0.3169 - acc: 0.9750 - val_loss: 0.4107 - val_acc: 0.9000\n",
      "Epoch 24/25\n",
      "4/5 [=======================>......] - ETA: 1s - loss: 0.2929 - acc: 0.9375Epoch 1/25\n",
      "10/5 [============================================================] - 2s 230ms/sample - loss: 0.4633 - acc: 0.9000\n",
      "5/5 [==============================] - 12s 2s/step - loss: 0.3021 - acc: 0.9500 - val_loss: 0.4017 - val_acc: 0.9000\n"
     ]
    },
    {
     "name": "stdout",
     "output_type": "stream",
     "text": [
      "Epoch 25/25\n",
      "4/5 [=======================>......] - ETA: 1s - loss: 0.3647 - acc: 0.9375Epoch 1/25\n",
      "10/5 [============================================================] - 2s 219ms/sample - loss: 0.4381 - acc: 0.9000\n",
      "5/5 [==============================] - 11s 2s/step - loss: 0.3604 - acc: 0.9000 - val_loss: 0.3818 - val_acc: 0.9000\n"
     ]
    }
   ],
   "source": [
    "# compile our model\n",
    "print(\"[INFO] compiling model...\")\n",
    "opt = Adam(lr=INIT_LR, decay=INIT_LR / EPOCHS)\n",
    "model.compile(loss=\"binary_crossentropy\", optimizer=opt, metrics=[\"accuracy\"])\n",
    "# train the head of the network\n",
    "print(\"[INFO] training head...\")\n",
    "H = model.fit_generator(trainAug.flow(trainX, trainY, batch_size=BS), steps_per_epoch=len(trainX) // BS, validation_data=(testX, testY), validation_steps=len(testX) // BS, epochs=EPOCHS)"
   ]
  },
  {
   "cell_type": "code",
   "execution_count": 14,
   "metadata": {},
   "outputs": [
    {
     "name": "stdout",
     "output_type": "stream",
     "text": [
      "[INFO] evaluating network...\n",
      "              precision    recall  f1-score   support\n",
      "\n",
      "       covid       1.00      0.80      0.89         5\n",
      "      normal       0.83      1.00      0.91         5\n",
      "\n",
      "    accuracy                           0.90        10\n",
      "   macro avg       0.92      0.90      0.90        10\n",
      "weighted avg       0.92      0.90      0.90        10\n",
      "\n"
     ]
    }
   ],
   "source": [
    "# make predictions on the testing set\n",
    "print(\"[INFO] evaluating network...\")\n",
    "predIdxs = model.predict(testX, batch_size=BS)\n",
    "# for each image in the testing set we need to find the index of the\n",
    "# label with corresponding largest predicted probability\n",
    "predIdxs = np.argmax(predIdxs, axis=1)\n",
    "# show a nicely formatted classification report\n",
    "print(classification_report(testY.argmax(axis=1), predIdxs, target_names=lb.classes_))"
   ]
  },
  {
   "cell_type": "code",
   "execution_count": 15,
   "metadata": {},
   "outputs": [
    {
     "name": "stdout",
     "output_type": "stream",
     "text": [
      "[[4 1]\n",
      " [0 5]]\n",
      "acc: 0.9000\n",
      "sensitivity: 0.8000\n",
      "specificity: 1.0000\n"
     ]
    }
   ],
   "source": [
    "# compute the confusion matrix and and use it to derive the raw\n",
    "# accuracy, sensitivity, and specificity\n",
    "cm = confusion_matrix(testY.argmax(axis=1), predIdxs)\n",
    "total = sum(sum(cm))\n",
    "acc = (cm[0, 0] + cm[1, 1]) / total\n",
    "sensitivity = cm[0, 0] / (cm[0, 0] + cm[0, 1])\n",
    "specificity = cm[1, 1] / (cm[1, 0] + cm[1, 1])\n",
    "# show the confusion matrix, accuracy, sensitivity, and specificity\n",
    "print(cm)\n",
    "print(\"acc: {:.4f}\".format(acc))\n",
    "print(\"sensitivity: {:.4f}\".format(sensitivity))\n",
    "print(\"specificity: {:.4f}\".format(specificity))"
   ]
  },
  {
   "cell_type": "code",
   "execution_count": 20,
   "metadata": {},
   "outputs": [
    {
     "data": {
      "image/png": "[encoded data removed]",
      "text/plain": [
       "<Figure size 432x288 with 1 Axes>"
      ]
     },
     "metadata": {},
     "output_type": "display_data"
    }
   ],
   "source": [
    "# plot the training loss and accuracy\n",
    "N = EPOCHS\n",
    "plt.style.use(\"ggplot\")\n",
    "plt.figure()\n",
    "plt.plot(np.arange(0, N), H.history[\"loss\"], label=\"train_loss\")\n",
    "plt.plot(np.arange(0, N), H.history[\"val_loss\"], label=\"val_loss\")\n",
    "#plt.plot(np.arange(0, N), H.history[\"accuracy\"], label=\"train_acc\")\n",
    "#plt.plot(np.arange(0, N), H.history[\"val_accuracy\"], label=\"val_acc\")\n",
    "plt.title(\"Training Loss and Accuracy on COVID-19 Dataset\")\n",
    "plt.xlabel(\"Epoch #\")\n",
    "plt.ylabel(\"Loss/Accuracy\")\n",
    "plt.legend(loc=\"lower left\")\n",
    "plt.savefig(\"/Users/patsnap/Desktop/Neo4J_and_other_codes/Image_search/keras-covid-19/plot.png\")"
   ]
  },
  {
   "cell_type": "code",
   "execution_count": 21,
   "metadata": {},
   "outputs": [
    {
     "name": "stdout",
     "output_type": "stream",
     "text": [
      "[INFO] saving COVID-19 detector model...\n"
     ]
    }
   ],
   "source": [
    "# serialize the model to disk\n",
    "print(\"[INFO] saving COVID-19 detector model...\")\n",
    "model.save(\"/Users/patsnap/Desktop/Neo4J_and_other_codes/Image_search/keras-covid-19/covid19.model\", save_format=\"h5\")"
   ]
  },
  {
   "cell_type": "code",
   "execution_count": null,
   "metadata": {},
   "outputs": [],
   "source": []
  }
 ],
 "metadata": {
  "kernelspec": {
   "display_name": "Python 3",
   "language": "python",
   "name": "python3"
  },
  "language_info": {
   "codemirror_mode": {
    "name": "ipython",
    "version": 3
   },
   "file_extension": ".py",
   "mimetype": "text/x-python",
   "name": "python",
   "nbconvert_exporter": "python",
   "pygments_lexer": "ipython3",
   "version": "3.7.5"
  }
 },
 "nbformat": 4,
 "nbformat_minor": 2
}
