{
 "cells": [
  {
   "cell_type": "code",
   "execution_count": 17,
   "metadata": {},
   "outputs": [
    {
     "name": "stdout",
     "output_type": "stream",
     "text": [
      "Collecting textract\n",
      "  Downloading textract-1.6.3-py3-none-any.whl (21 kB)\n",
      "Requirement already satisfied: chardet==3.0.4 in /Users/sdeshpande/opt/anaconda3/lib/python3.8/site-packages (from textract) (3.0.4)\n",
      "Collecting python-pptx==0.6.18\n",
      "  Downloading python-pptx-0.6.18.tar.gz (8.9 MB)\n",
      "\u001b[K     |████████████████████████████████| 8.9 MB 12.8 MB/s eta 0:00:01\n",
      "\u001b[?25hCollecting SpeechRecognition==3.8.1\n",
      "  Downloading SpeechRecognition-3.8.1-py2.py3-none-any.whl (32.8 MB)\n",
      "\u001b[K     |████████████████████████████████| 32.8 MB 22.7 MB/s eta 0:00:01\n",
      "\u001b[?25hCollecting beautifulsoup4==4.8.0\n",
      "  Downloading beautifulsoup4-4.8.0-py3-none-any.whl (97 kB)\n",
      "\u001b[K     |████████████████████████████████| 97 kB 33.5 MB/s eta 0:00:01\n",
      "\u001b[?25hCollecting argcomplete==1.10.0\n",
      "  Downloading argcomplete-1.10.0-py2.py3-none-any.whl (31 kB)\n",
      "Collecting extract-msg==0.23.1\n",
      "  Downloading extract_msg-0.23.1-py2.py3-none-any.whl (45 kB)\n",
      "\u001b[K     |████████████████████████████████| 45 kB 12.5 MB/s eta 0:00:01\n",
      "\u001b[?25hCollecting docx2txt==0.8\n",
      "  Downloading docx2txt-0.8.tar.gz (2.8 kB)\n",
      "Collecting EbookLib==0.17.1\n",
      "  Downloading EbookLib-0.17.1.tar.gz (111 kB)\n",
      "\u001b[K     |████████████████████████████████| 111 kB 41.3 MB/s eta 0:00:01\n",
      "\u001b[?25hCollecting six==1.12.0\n",
      "  Downloading six-1.12.0-py2.py3-none-any.whl (10 kB)\n",
      "Collecting pdfminer.six==20181108\n",
      "  Downloading pdfminer.six-20181108-py2.py3-none-any.whl (5.6 MB)\n",
      "\u001b[K     |████████████████████████████████| 5.6 MB 20.6 MB/s eta 0:00:01\n",
      "\u001b[?25hRequirement already satisfied: xlrd==1.2.0 in /Users/sdeshpande/opt/anaconda3/lib/python3.8/site-packages (from textract) (1.2.0)\n",
      "Requirement already satisfied: lxml>=3.1.0 in /Users/sdeshpande/opt/anaconda3/lib/python3.8/site-packages (from python-pptx==0.6.18->textract) (4.5.2)\n",
      "Requirement already satisfied: Pillow>=3.3.2 in /Users/sdeshpande/opt/anaconda3/lib/python3.8/site-packages (from python-pptx==0.6.18->textract) (7.2.0)\n",
      "Requirement already satisfied: XlsxWriter>=0.5.7 in /Users/sdeshpande/opt/anaconda3/lib/python3.8/site-packages (from python-pptx==0.6.18->textract) (1.2.9)\n",
      "Requirement already satisfied: soupsieve>=1.2 in /Users/sdeshpande/opt/anaconda3/lib/python3.8/site-packages (from beautifulsoup4==4.8.0->textract) (2.0.1)\n",
      "Collecting tzlocal==1.5.1\n",
      "  Downloading tzlocal-1.5.1.tar.gz (16 kB)\n",
      "Collecting imapclient==2.1.0\n",
      "  Downloading IMAPClient-2.1.0-py2.py3-none-any.whl (73 kB)\n",
      "\u001b[K     |████████████████████████████████| 73 kB 9.4 MB/s  eta 0:00:01\n",
      "\u001b[?25hRequirement already satisfied: olefile==0.46 in /Users/sdeshpande/opt/anaconda3/lib/python3.8/site-packages (from extract-msg==0.23.1->textract) (0.46)\n",
      "Collecting pycryptodome\n",
      "  Downloading pycryptodome-3.9.8-cp38-cp38-macosx_10_9_x86_64.whl (13.3 MB)\n",
      "\u001b[K     |████████████████████████████████| 13.3 MB 11.1 MB/s eta 0:00:01\n",
      "\u001b[?25hRequirement already satisfied: sortedcontainers in /Users/sdeshpande/opt/anaconda3/lib/python3.8/site-packages (from pdfminer.six==20181108->textract) (2.2.2)\n",
      "Requirement already satisfied: pytz in /Users/sdeshpande/opt/anaconda3/lib/python3.8/site-packages (from tzlocal==1.5.1->extract-msg==0.23.1->textract) (2020.1)\n",
      "Building wheels for collected packages: python-pptx, docx2txt, EbookLib, tzlocal\n",
      "  Building wheel for python-pptx (setup.py) ... \u001b[?25ldone\n",
      "\u001b[?25h  Created wheel for python-pptx: filename=python_pptx-0.6.18-py3-none-any.whl size=275703 sha256=33d821acbeccb37d655ed1a5608abe1bab8b4d11f7e838892298fe0f83520269\n",
      "  Stored in directory: /Users/sdeshpande/Library/Caches/pip/wheels/11/2b/97/d82ca57932fa62d52c723024419c5ec3b7c0f7ecf0a0f06332\n",
      "  Building wheel for docx2txt (setup.py) ... \u001b[?25ldone\n",
      "\u001b[?25h  Created wheel for docx2txt: filename=docx2txt-0.8-py3-none-any.whl size=3963 sha256=9fb45cb7af87bc536fa30dcc3101c04e7da4a1f201d659ff38809578b09c84e2\n",
      "  Stored in directory: /Users/sdeshpande/Library/Caches/pip/wheels/55/f0/2c/81637d42670985178b77df6d41b9b6c6dc18c94818447414b9\n",
      "  Building wheel for EbookLib (setup.py) ... \u001b[?25ldone\n",
      "\u001b[?25h  Created wheel for EbookLib: filename=EbookLib-0.17.1-py3-none-any.whl size=38164 sha256=2a893a95bd5c013ec13ddf9c44e1d38d79c0186a631eab446733f232d384cc86\n",
      "  Stored in directory: /Users/sdeshpande/Library/Caches/pip/wheels/b4/eb/66/00c65b5bbf31ec34329090ec9fe8c8a8d9cb7a3a3d93841386\n",
      "  Building wheel for tzlocal (setup.py) ... \u001b[?25ldone\n",
      "\u001b[?25h  Created wheel for tzlocal: filename=tzlocal-1.5.1-py3-none-any.whl size=17543 sha256=abd36adb4ccc322efd2ef6308f566063da6628bbf0f9ab7009b9bcaaac6adbdb\n",
      "  Stored in directory: /Users/sdeshpande/Library/Caches/pip/wheels/3a/14/ce/9c504116f6b89e4a05ce0bc0f41983df280d7e00f463481900\n",
      "Successfully built python-pptx docx2txt EbookLib tzlocal\n",
      "\u001b[31mERROR: tensorflow 2.3.0 has requirement scipy==1.4.1, but you'll have scipy 1.5.2 which is incompatible.\u001b[0m\n",
      "\u001b[31mERROR: matminer 0.6.3 has requirement six>=1.14.0, but you'll have six 1.12.0 which is incompatible.\u001b[0m\n",
      "Installing collected packages: python-pptx, SpeechRecognition, beautifulsoup4, argcomplete, tzlocal, six, imapclient, extract-msg, docx2txt, EbookLib, pycryptodome, pdfminer.six, textract\n",
      "  Attempting uninstall: beautifulsoup4\n",
      "    Found existing installation: beautifulsoup4 4.9.1\n",
      "    Uninstalling beautifulsoup4-4.9.1:\n",
      "      Successfully uninstalled beautifulsoup4-4.9.1\n",
      "  Attempting uninstall: six\n",
      "    Found existing installation: six 1.15.0\n",
      "    Uninstalling six-1.15.0:\n",
      "      Successfully uninstalled six-1.15.0\n",
      "Successfully installed EbookLib-0.17.1 SpeechRecognition-3.8.1 argcomplete-1.10.0 beautifulsoup4-4.8.0 docx2txt-0.8 extract-msg-0.23.1 imapclient-2.1.0 pdfminer.six-20181108 pycryptodome-3.9.8 python-pptx-0.6.18 six-1.12.0 textract-1.6.3 tzlocal-1.5.1\n"
     ]
    }
   ],
   "source": [
    "!pip install textract"
   ]
  },
  {
   "cell_type": "code",
   "execution_count": 18,
   "metadata": {},
   "outputs": [],
   "source": [
    "import textract"
   ]
  },
  {
   "cell_type": "code",
   "execution_count": 31,
   "metadata": {},
   "outputs": [],
   "source": [
    "text = textract.process('/Users/sdeshpande/Desktop/image_analysis/ocr-handwriting-recognition/images/english.png', method='tesseract')"
   ]
  },
  {
   "cell_type": "code",
   "execution_count": 32,
   "metadata": {},
   "outputs": [
    {
     "data": {
      "text/plain": [
       "b'Reduce your risk of coronavirus infection:\\n\\nClean hands with soap and water\\neee re MC aL}\\n\\nCover nose and mouth when coughing and pA\\n\\n \\n\\nsneezing with tissue or flexed elbow\\n\\nAvoid close contact with anyone with\\nCl Rm aL CES Tu Curd\\n\\nBU Wel alee Rte ey {.)\\n\\nNo unprotected contact with live wild\\n\\n2 .~) CR CUCL\\n\\neee\\nPare)\\n\\x0c'"
      ]
     },
     "execution_count": 32,
     "metadata": {},
     "output_type": "execute_result"
    }
   ],
   "source": [
    "text"
   ]
  },
  {
   "cell_type": "markdown",
   "metadata": {},
   "source": [
    "Textract. Textract is a good library with a good potential. It can extract data from pdf, gif, docx, png, jpg, etc. But this package can work only with simple pdf files (without tables, a lot of columns etc.), and this package is too heavy (maybe about 30mb)."
   ]
  },
  {
   "cell_type": "code",
   "execution_count": 24,
   "metadata": {},
   "outputs": [
    {
     "name": "stdout",
     "output_type": "stream",
     "text": [
      "Collecting pyocr\n",
      "  Downloading pyocr-0.7.2.tar.gz (65 kB)\n",
      "\u001b[K     |████████████████████████████████| 65 kB 6.2 MB/s eta 0:00:011\n",
      "\u001b[?25hRequirement already satisfied: Pillow in /Users/sdeshpande/opt/anaconda3/lib/python3.8/site-packages (from pyocr) (7.2.0)\n",
      "Building wheels for collected packages: pyocr\n",
      "  Building wheel for pyocr (setup.py) ... \u001b[?25ldone\n",
      "\u001b[?25h  Created wheel for pyocr: filename=pyocr-0.7.2-py3-none-any.whl size=36498 sha256=e62e2035617ce16d03b058c323de0e716c89a26db454b25532b091a234b9e407\n",
      "  Stored in directory: /Users/sdeshpande/Library/Caches/pip/wheels/85/f8/e6/b3b49826b3c5b61fa5562653b885f6838017e7bc5c79945b66\n",
      "Successfully built pyocr\n",
      "Installing collected packages: pyocr\n",
      "Successfully installed pyocr-0.7.2\n"
     ]
    }
   ],
   "source": [
    "!pip install pyocr"
   ]
  },
  {
   "cell_type": "code",
   "execution_count": 43,
   "metadata": {
    "scrolled": true
   },
   "outputs": [],
   "source": [
    "import pyocr\n",
    "import pyocr.builders\n",
    "from PIL import Image\n",
    "tools = pyocr.get_available_tools()[0]\n",
    "text = tools.image_to_string(Image.open('/Users/sdeshpande/Desktop/image_analysis/ocr-handwriting-recognition/images/english.png'), \n",
    "                             builder=pyocr.builders.TextBuilder())"
   ]
  },
  {
   "cell_type": "code",
   "execution_count": 44,
   "metadata": {},
   "outputs": [
    {
     "data": {
      "text/plain": [
       "'Reduce your risk of coronavirus infection:\\n\\nClean hands with soap and water\\neee re MC aL}\\n\\nCover nose and mouth when coughing and pA\\n\\n \\n\\nsneezing with tissue or flexed elbow\\n\\nAvoid close contact with anyone with\\nCl Rm aL CES Tu Curd\\n\\nBU Wel alee Rte ey {.)\\n\\nNo unprotected contact with live wild\\n\\n2 .~) CR CUCL\\n\\neee\\nPare)'"
      ]
     },
     "execution_count": 44,
     "metadata": {},
     "output_type": "execute_result"
    }
   ],
   "source": [
    "text"
   ]
  },
  {
   "cell_type": "code",
   "execution_count": 38,
   "metadata": {},
   "outputs": [
    {
     "name": "stdout",
     "output_type": "stream",
     "text": [
      "Will use tool 'Tesseract (sh)'\n"
     ]
    }
   ],
   "source": [
    "tools = pyocr.get_available_tools()\n",
    "tool = tools[0]\n",
    "print(\"Will use tool '%s'\" % (tool.get_name()))"
   ]
  },
  {
   "cell_type": "code",
   "execution_count": 40,
   "metadata": {},
   "outputs": [
    {
     "name": "stdout",
     "output_type": "stream",
     "text": [
      "Available languages: eng, osd, snum\n",
      "Will use lang 'eng'\n"
     ]
    }
   ],
   "source": [
    "langs = tool.get_available_languages()\n",
    "print(\"Available languages: %s\" % \", \".join(langs))\n",
    "lang = langs[0]\n",
    "print(\"Will use lang '%s'\" % (lang))"
   ]
  },
  {
   "cell_type": "code",
   "execution_count": 41,
   "metadata": {},
   "outputs": [],
   "source": [
    "txt = tool.image_to_string(\n",
    "    Image.open('/Users/sdeshpande/Desktop/image_analysis/ocr-handwriting-recognition/images/test.png'),\n",
    "    lang=lang,\n",
    "    builder=pyocr.builders.TextBuilder()\n",
    ")"
   ]
  },
  {
   "cell_type": "code",
   "execution_count": 42,
   "metadata": {},
   "outputs": [
    {
     "data": {
      "text/plain": [
       "'This is a lot of 12 point text to test the\\nocr code and see if it works on all types\\nof file format.\\n\\nThe quick brown dog jumped over the\\nlazy fox. The quick brown dog jumped\\nover the lazy fox. The quick brown dog\\njumped over the lazy fox. The quick\\nbrown dog jumped over the lazy fox.'"
      ]
     },
     "execution_count": 42,
     "metadata": {},
     "output_type": "execute_result"
    }
   ],
   "source": [
    "txt"
   ]
  },
  {
   "cell_type": "code",
   "execution_count": 45,
   "metadata": {},
   "outputs": [],
   "source": [
    "# Digits - Only Tesseract (not 'libtesseract' yet !)\n",
    "digits = tool.image_to_string(\n",
    "    Image.open('/Users/sdeshpande/Desktop/image_analysis/ocr-handwriting-recognition/images/test-digits.png'),\n",
    "    lang=lang,\n",
    "    builder=pyocr.tesseract.DigitBuilder()\n",
    ")\n",
    "# digits is a python string"
   ]
  },
  {
   "cell_type": "code",
   "execution_count": 46,
   "metadata": {},
   "outputs": [
    {
     "data": {
      "text/plain": [
       "'3355456544'"
      ]
     },
     "execution_count": 46,
     "metadata": {},
     "output_type": "execute_result"
    }
   ],
   "source": [
    "digits"
   ]
  }
 ],
 "metadata": {
  "kernelspec": {
   "display_name": "Python 3",
   "language": "python",
   "name": "python3"
  },
  "language_info": {
   "codemirror_mode": {
    "name": "ipython",
    "version": 3
   },
   "file_extension": ".py",
   "mimetype": "text/x-python",
   "name": "python",
   "nbconvert_exporter": "python",
   "pygments_lexer": "ipython3",
   "version": "3.8.3"
  }
 },
 "nbformat": 4,
 "nbformat_minor": 4
}
