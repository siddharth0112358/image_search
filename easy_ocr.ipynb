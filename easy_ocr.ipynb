{
 "cells": [
  {
   "cell_type": "code",
   "execution_count": null,
   "metadata": {},
   "outputs": [],
   "source": [
    "#https://github.com/JaidedAI/EasyOCR"
   ]
  },
  {
   "cell_type": "code",
   "execution_count": 1,
   "metadata": {},
   "outputs": [
    {
     "name": "stdout",
     "output_type": "stream",
     "text": [
      "Collecting easyocr\n",
      "  Downloading easyocr-1.1.3-py3-none-any.whl (13.5 MB)\n",
      "\u001b[K     |████████████████████████████████| 13.5 MB 10.2 MB/s eta 0:00:01    |█▉                              | 757 kB 10.2 MB/s eta 0:00:02\n",
      "\u001b[?25hRequirement already satisfied: opencv-python in /Users/patsnap/anaconda2/lib/python3.7/site-packages (from easyocr) (4.3.0.36)\n",
      "Requirement already satisfied: scikit-image in /Users/patsnap/anaconda2/lib/python3.7/site-packages (from easyocr) (0.15.0)\n",
      "Requirement already satisfied: torchvision in /Users/patsnap/anaconda2/lib/python3.7/site-packages (from easyocr) (0.5.0)\n",
      "Requirement already satisfied: scipy in /Users/patsnap/anaconda2/lib/python3.7/site-packages (from easyocr) (1.4.1)\n",
      "Requirement already satisfied: Pillow<7.0 in /Users/patsnap/anaconda2/lib/python3.7/site-packages (from easyocr) (6.2.1)\n",
      "Requirement already satisfied: numpy in /Users/patsnap/anaconda2/lib/python3.7/site-packages (from easyocr) (1.18.4)\n",
      "Requirement already satisfied: torch in /Users/patsnap/anaconda2/lib/python3.7/site-packages (from easyocr) (1.4.0)\n",
      "Requirement already satisfied: imageio>=2.0.1 in /Users/patsnap/anaconda2/lib/python3.7/site-packages (from scikit-image->easyocr) (2.6.1)\n",
      "Requirement already satisfied: PyWavelets>=0.4.0 in /Users/patsnap/anaconda2/lib/python3.7/site-packages (from scikit-image->easyocr) (1.0.3)\n",
      "Requirement already satisfied: matplotlib!=3.0.0,>=2.0.0 in /Users/patsnap/anaconda2/lib/python3.7/site-packages (from scikit-image->easyocr) (3.1.1)\n",
      "Requirement already satisfied: networkx>=2.0 in /Users/patsnap/anaconda2/lib/python3.7/site-packages (from scikit-image->easyocr) (2.4)\n",
      "Requirement already satisfied: six in /Users/patsnap/.local/lib/python3.7/site-packages (from torchvision->easyocr) (1.14.0)\n",
      "Requirement already satisfied: cycler>=0.10 in /Users/patsnap/anaconda2/lib/python3.7/site-packages (from matplotlib!=3.0.0,>=2.0.0->scikit-image->easyocr) (0.10.0)\n",
      "Requirement already satisfied: kiwisolver>=1.0.1 in /Users/patsnap/anaconda2/lib/python3.7/site-packages (from matplotlib!=3.0.0,>=2.0.0->scikit-image->easyocr) (1.1.0)\n",
      "Requirement already satisfied: pyparsing!=2.0.4,!=2.1.2,!=2.1.6,>=2.0.1 in /Users/patsnap/anaconda2/lib/python3.7/site-packages (from matplotlib!=3.0.0,>=2.0.0->scikit-image->easyocr) (2.4.2)\n",
      "Requirement already satisfied: python-dateutil>=2.1 in /Users/patsnap/anaconda2/lib/python3.7/site-packages (from matplotlib!=3.0.0,>=2.0.0->scikit-image->easyocr) (2.8.1)\n",
      "Requirement already satisfied: decorator>=4.3.0 in /Users/patsnap/anaconda2/lib/python3.7/site-packages (from networkx>=2.0->scikit-image->easyocr) (4.4.1)\n",
      "Requirement already satisfied: setuptools in /Users/patsnap/.local/lib/python3.7/site-packages (from kiwisolver>=1.0.1->matplotlib!=3.0.0,>=2.0.0->scikit-image->easyocr) (46.3.0)\n",
      "Installing collected packages: easyocr\n",
      "Successfully installed easyocr-1.1.3\n"
     ]
    }
   ],
   "source": [
    "!pip install easyocr"
   ]
  },
  {
   "cell_type": "code",
   "execution_count": 2,
   "metadata": {},
   "outputs": [],
   "source": [
    "import easyocr"
   ]
  },
  {
   "cell_type": "code",
   "execution_count": 4,
   "metadata": {},
   "outputs": [
    {
     "name": "stdout",
     "output_type": "stream",
     "text": [
      "Using CPU. Note: This module is much faster with a GPU.\n"
     ]
    }
   ],
   "source": [
    "reader = easyocr.Reader(['en'], gpu = False)"
   ]
  },
  {
   "cell_type": "code",
   "execution_count": 5,
   "metadata": {},
   "outputs": [
    {
     "data": {
      "text/plain": [
       "[([[122.36438716139847, 5.8490131876507725],\n",
       "   [154.88485549096248, 10.331180309658471],\n",
       "   [152.63561283860153, 27.150986812349228],\n",
       "   [120.1151445090375, 22.66881969034153]],\n",
       "  'logo,',\n",
       "  0.6730296015739441),\n",
       " ([[159, 6], [595, 6], [595, 26], [159, 26]],\n",
       "  'Acrobat, the Acrobat logo, Acrobat Capture, Adobe Garamond, Adobe',\n",
       "  0.0995512530207634),\n",
       " ([[7, 7], [121, 7], [121, 23], [7, 23]],\n",
       "  'Adobe, the Adobe',\n",
       "  0.1315685510635376),\n",
       " ([[7, 23], [595, 23], [595, 43], [7, 43]],\n",
       "  'Intelligent Document Platform, Adobe PDF, Adobe Reader, Adobe Solutions Network, Aldus, Dis-',\n",
       "  0.02019677869975567),\n",
       " ([[7, 41], [593, 41], [593, 59], [7, 59]],\n",
       "  'tiller, ePaper, Extrene, FrameMaker, Illustrator, InDesign, Minion, Myriad, PageMaker, Photo-',\n",
       "  0.00016038499597925693),\n",
       " ([[4, 54], [596, 54], [596, 78], [4, 78]],\n",
       "  'shop, Poetica, PostScript, and XMP are either registered trademarks or trademarks of Adobe',\n",
       "  0.0005549970082938671),\n",
       " ([[5, 73], [415, 73], [415, 93], [5, 93]],\n",
       "  'Systems Incorporated in the United States andlor other countries',\n",
       "  0.09582199156284332),\n",
       " ([[421, 73], [595, 73], [595, 89], [421, 89]],\n",
       "  'Microsott and Windows are',\n",
       "  0.288141131401062),\n",
       " ([[7, 90], [595, 90], [595, 111], [7, 111]],\n",
       "  'either registered trademarks or trademarks of Microsoft Corporation in the United States andlor',\n",
       "  0.008503863587975502),\n",
       " ([[7, 106], [379, 106], [379, 125], [7, 125]],\n",
       "  'other countries. Apple, Mac, Macintosh, and Power Macintosh',\n",
       "  0.12049257755279541),\n",
       " ([[403, 107], [595, 107], [595, 125], [403, 125]],\n",
       "  'trademarks of Apple Computer,',\n",
       "  0.2017415165901184),\n",
       " ([[377.03523617876226, 110.73688259420788],\n",
       "   [399.84548890303097, 107.46600700861202],\n",
       "   [400.96476382123774, 117.26311740579212],\n",
       "   [379.15451109696903, 120.53399299138798]],\n",
       "  'alle',\n",
       "  0.1431538462638855),\n",
       " ([[7.139708466365826, 123.49019760969827],\n",
       "   [37.95170861776055, 126.69299722007725],\n",
       "   [35.860291533634175, 140.50980239030173],\n",
       "   [5.048291382239449, 137.30700277992275]],\n",
       "  'Iuc.',\n",
       "  0.10807298868894577),\n",
       " ([[37, 125], [403, 125], [403, 143], [37, 143]],\n",
       "  'registered in the United States and other countries. IBM is',\n",
       "  0.012542487122118473),\n",
       " ([[415, 125], [595, 125], [595, 143], [415, 143]],\n",
       "  'registered trademark ot IBM',\n",
       "  0.2617473304271698),\n",
       " ([[268, 139], [594, 139], [594, 163], [268, 163]],\n",
       "  'trademark or registered trademark of Sun Microsys-',\n",
       "  0.1769784539937973),\n",
       " ([[7, 141], [257, 141], [257, 159], [7, 159]],\n",
       "  'Corporation in the United States. Sun is',\n",
       "  0.03481109440326691),\n",
       " ([[381, 154], [596, 154], [596, 178], [381, 178]],\n",
       "  'registered trademark of The Open',\n",
       "  0.5094274878501892),\n",
       " ([[7, 155], [373, 155], [373, 173], [7, 173]],\n",
       "  'tens, Inc. in the United States and other countries. UNIX is',\n",
       "  0.03614869713783264),\n",
       " ([[6, 173], [595, 173], [595, 193], [6, 193]],\n",
       "  'Group SVG is a trademarkofthe World Wide Web Consortium; marks ofthe W3C are registered',\n",
       "  0.013833265751600266),\n",
       " ([[5, 191], [595, 191], [595, 209], [5, 209]],\n",
       "  'and held by its host institutionsjMIT, INRIA and Keio. Helvetica and Times are registered trade-',\n",
       "  0.0009615374729037285),\n",
       " ([[371.100491841424, 206.56309603726308],\n",
       "   [409.97439119569464, 210.77514049330125],\n",
       "   [407.899508158576, 224.43690396273692],\n",
       "   [369.02560880430536, 220.22485950669875]],\n",
       "  'Tines',\n",
       "  0.23942917585372925),\n",
       " ([[7, 207], [369, 207], [369, 225], [7, 225]],\n",
       "  'marks of Linotype-Hell AG andlor its subsidiaries. Arial and',\n",
       "  0.08226855099201202),\n",
       " ([[409, 207], [597, 207], [597, 223], [409, 223]],\n",
       "  'Neu Roman are tradenarks of',\n",
       "  0.11043558269739151),\n",
       " ([[34, 220], [242, 220], [242, 245], [34, 245]],\n",
       "  'Monotype Corporation registered',\n",
       "  0.29393884539604187),\n",
       " ([[241, 223], [303, 223], [303, 239], [241, 239]],\n",
       "  'in the US',\n",
       "  0.6906495690345764),\n",
       " ([[307, 223], [511, 223], [511, 239], [307, 239]],\n",
       "  'Patent and Trademark Oftice and',\n",
       "  0.24555130302906036),\n",
       " ([[7, 225], [33, 225], [33, 239], [7, 239]], 'The', 0.6050131320953369),\n",
       " ([[539, 225], [559, 225], [559, 239], [539, 239]], 'be', 0.8658899664878845),\n",
       " ([[511, 227], [541, 227], [541, 241], [511, 241]], 'may', 0.862941563129425),\n",
       " ([[557, 227], [595, 227], [595, 243], [557, 243]],\n",
       "  'regis-',\n",
       "  0.5987173914909363),\n",
       " ([[364, 240], [595, 240], [595, 259], [364, 259]],\n",
       "  'registered trademark of International',\n",
       "  0.18205130100250244),\n",
       " ([[7, 241], [355, 241], [355, 259], [7, 259]],\n",
       "  'tered in certain other jurisdictions. ITC Zapf Dingbats is',\n",
       "  0.049638185650110245),\n",
       " ([[7, 257], [245, 257], [245, 275], [7, 275]],\n",
       "  'Typeface Corporation. Ryumin Light is',\n",
       "  0.1667349487543106),\n",
       " ([[255, 257], [595, 257], [595, 273], [255, 273]],\n",
       "  'trademark of Morisawa & Co., Ltd. All other trademarks',\n",
       "  0.029372120276093483),\n",
       " ([[152, 273], [263, 273], [263, 292], [152, 292]],\n",
       "  'respective owners',\n",
       "  0.9683048129081726),\n",
       " ([[5, 275], [51, 275], [51, 289], [5, 289]], 'are the', 0.4464397430419922),\n",
       " ([[105, 275], [155, 275], [155, 289], [105, 289]],\n",
       "  'ot their',\n",
       "  0.4647870361804962),\n",
       " ([[51, 277], [107, 277], [107, 291], [51, 291]],\n",
       "  'property',\n",
       "  0.9101377129554749)]"
      ]
     },
     "execution_count": 5,
     "metadata": {},
     "output_type": "execute_result"
    }
   ],
   "source": [
    "reader.readtext('/Users/patsnap/Desktop/Neo4J_and_other_codes/trail.png')"
   ]
  },
  {
   "cell_type": "code",
   "execution_count": null,
   "metadata": {},
   "outputs": [],
   "source": []
  },
  {
   "cell_type": "code",
   "execution_count": null,
   "metadata": {},
   "outputs": [],
   "source": []
  },
  {
   "cell_type": "code",
   "execution_count": null,
   "metadata": {},
   "outputs": [],
   "source": []
  },
  {
   "cell_type": "code",
   "execution_count": null,
   "metadata": {},
   "outputs": [],
   "source": []
  }
 ],
 "metadata": {
  "kernelspec": {
   "display_name": "Python 3",
   "language": "python",
   "name": "python3"
  },
  "language_info": {
   "codemirror_mode": {
    "name": "ipython",
    "version": 3
   },
   "file_extension": ".py",
   "mimetype": "text/x-python",
   "name": "python",
   "nbconvert_exporter": "python",
   "pygments_lexer": "ipython3",
   "version": "3.7.5"
  }
 },
 "nbformat": 4,
 "nbformat_minor": 2
}
